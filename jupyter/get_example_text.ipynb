{
 "cells": [
  {
   "cell_type": "code",
   "execution_count": 1,
   "metadata": {},
   "outputs": [],
   "source": [
    "from pathlib import Path\n",
    "import urllib.request\n",
    "from bs4 import BeautifulSoup, Tag\n",
    "import json"
   ]
  },
  {
   "cell_type": "code",
   "execution_count": 2,
   "metadata": {},
   "outputs": [],
   "source": [
    "input_dir = Path.cwd().parent / \"data\" / \"example_text\"\n",
    "\n",
    "def save_json_data(file: str, json_data):\n",
    "    with open(file, 'tw', encoding=\"UTF-8\") as outfile:\n",
    "        json.dump(json_data, outfile, indent=4, ensure_ascii=False)\n",
    "\n",
    "def get_html_page(fileName: str, url: str):\n",
    "    content = urllib.request.urlopen(url).read()\n",
    "    soup = BeautifulSoup(content, 'html.parser')\n",
    "    text = soup.get_text().strip()\n",
    "    json_data = { \"url\": url, \"content\": content.decode(soup.original_encoding), \"text\": text }\n",
    "    save_json_data(input_dir / f\"{fileName}.json\", json_data)"
   ]
  },
  {
   "cell_type": "code",
   "execution_count": 3,
   "metadata": {},
   "outputs": [],
   "source": [
    "get_html_page(\"B. Prus - Lalka - Tom 1 - Rozdział  1\", \"https://literat.ug.edu.pl/lalka/0001.htm\")\n",
    "get_html_page(\"B. Prus - Lalka - Tom 1 - Rozdział  2\", \"https://literat.ug.edu.pl/lalka/0002.htm\")\n",
    "get_html_page(\"B. Prus - Lalka - Tom 1 - Rozdział  3\", \"https://literat.ug.edu.pl/lalka/0003.htm\")\n",
    "get_html_page(\"B. Prus - Lalka - Tom 1 - Rozdział  4\", \"https://literat.ug.edu.pl/lalka/0004.htm\")\n",
    "get_html_page(\"B. Prus - Lalka - Tom 1 - Rozdział  5\", \"https://literat.ug.edu.pl/lalka/0005.htm\")\n",
    "get_html_page(\"B. Prus - Lalka - Tom 1 - Rozdział  6\", \"https://literat.ug.edu.pl/lalka/0006.htm\")\n",
    "get_html_page(\"B. Prus - Lalka - Tom 1 - Rozdział  7\", \"https://literat.ug.edu.pl/lalka/0007.htm\")\n",
    "get_html_page(\"B. Prus - Lalka - Tom 1 - Rozdział  8\", \"https://literat.ug.edu.pl/lalka/0008.htm\")\n",
    "get_html_page(\"B. Prus - Lalka - Tom 1 - Rozdział  9\", \"https://literat.ug.edu.pl/lalka/0009.htm\")\n",
    "get_html_page(\"B. Prus - Lalka - Tom 1 - Rozdział 10\", \"https://literat.ug.edu.pl/lalka/0010.htm\")\n",
    "get_html_page(\"B. Prus - Lalka - Tom 1 - Rozdział 11\", \"https://literat.ug.edu.pl/lalka/0011.htm\")\n",
    "get_html_page(\"B. Prus - Lalka - Tom 1 - Rozdział 12\", \"https://literat.ug.edu.pl/lalka/0012.htm\")\n",
    "get_html_page(\"B. Prus - Lalka - Tom 1 - Rozdział 13\", \"https://literat.ug.edu.pl/lalka/0013.htm\")\n",
    "get_html_page(\"B. Prus - Lalka - Tom 1 - Rozdział 14\", \"https://literat.ug.edu.pl/lalka/0014.htm\")\n",
    "get_html_page(\"B. Prus - Lalka - Tom 1 - Rozdział 15\", \"https://literat.ug.edu.pl/lalka/0015.htm\")\n",
    "get_html_page(\"B. Prus - Lalka - Tom 1 - Rozdział 16\", \"https://literat.ug.edu.pl/lalka/0016.htm\")\n",
    "get_html_page(\"B. Prus - Lalka - Tom 1 - Rozdział 17\", \"https://literat.ug.edu.pl/lalka/0017.htm\")\n",
    "get_html_page(\"B. Prus - Lalka - Tom 1 - Rozdział 18\", \"https://literat.ug.edu.pl/lalka/0018.htm\")\n",
    "get_html_page(\"B. Prus - Lalka - Tom 1 - Rozdział 19\", \"https://literat.ug.edu.pl/lalka/0019.htm\")\n",
    "\n"
   ]
  }
 ],
 "metadata": {
  "kernelspec": {
   "display_name": ".env",
   "language": "python",
   "name": "python3"
  },
  "language_info": {
   "codemirror_mode": {
    "name": "ipython",
    "version": 3
   },
   "file_extension": ".py",
   "mimetype": "text/x-python",
   "name": "python",
   "nbconvert_exporter": "python",
   "pygments_lexer": "ipython3",
   "version": "3.11.3"
  },
  "orig_nbformat": 4
 },
 "nbformat": 4,
 "nbformat_minor": 2
}

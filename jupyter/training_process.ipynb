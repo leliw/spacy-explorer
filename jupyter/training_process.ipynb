{
 "cells": [
  {
   "cell_type": "markdown",
   "metadata": {},
   "source": [
    "# Właściwy proces uczenia"
   ]
  },
  {
   "cell_type": "code",
   "execution_count": 29,
   "metadata": {},
   "outputs": [],
   "source": [
    "import spacy\n",
    "import json\n",
    "import random\n",
    "from spacy.tokens import Doc\n",
    "from spacy.training import Example"
   ]
  },
  {
   "cell_type": "markdown",
   "metadata": {},
   "source": [
    "Ustawienie katalogów i nazw plików."
   ]
  },
  {
   "cell_type": "code",
   "execution_count": 30,
   "metadata": {},
   "outputs": [],
   "source": [
    "import os\n",
    "model_dir = os.path.join(\"..\", \"model\")\n",
    "model = os.path.join(model_dir, \"pl_streets_ner_model\")\n",
    "\n",
    "src_dir = os.path.join(\"..\", \"data\")\n",
    "src_streets = os.path.join(src_dir, \"streets.json\")"
   ]
  },
  {
   "cell_type": "markdown",
   "metadata": {},
   "source": [
    "Standardowe metody ładowania i zapisywania danych w formacie JSON."
   ]
  },
  {
   "cell_type": "code",
   "execution_count": 31,
   "metadata": {},
   "outputs": [],
   "source": [
    "def load_json_data(file: str):\n",
    "    with open(file, 'tr', encoding=\"UTF-8\") as json_file:\n",
    "        data = json.load(json_file)\n",
    "    return data\n",
    "\n",
    "def save_json_data(file: str, json_data):\n",
    "    with open(file, 'tw', encoding=\"UTF-8\") as outfile:\n",
    "        json.dump(json_data, outfile, indent=4, ensure_ascii=False)"
   ]
  },
  {
   "cell_type": "code",
   "execution_count": 32,
   "metadata": {},
   "outputs": [],
   "source": [
    "def train_spacy(data, iterations):\n",
    "    TRAIN_DATA = data\n",
    "    nlp = spacy.blank(\"pl\")\n",
    "    if \"ner\" not in nlp.pipe_names:\n",
    "        ner = nlp.add_pipe(\"ner\", last=True)\n",
    "    for _, annotations in TRAIN_DATA:\n",
    "        for ent in annotations.get(\"entities\"):\n",
    "            ner.add_label(ent[2])\n",
    "    other_pipes = [pipe for pipe in nlp.pipe_names if pipe != \"ner\"]\n",
    "    with nlp.disable_pipes(*other_pipes):\n",
    "        optimizer = nlp.begin_training()\n",
    "        for itn in range(iterations):\n",
    "            print(\"Starting iteration \" + str(itn))\n",
    "            random.shuffle(TRAIN_DATA)\n",
    "            losses = {}\n",
    "            for text, annotations in TRAIN_DATA:\n",
    "                example = Example.from_dict(nlp.make_doc(text), annotations)\n",
    "                nlp.update([example], drop=0.2, sgd=optimizer, losses=losses)\n",
    "            print(losses)\n",
    "    return (nlp)"
   ]
  },
  {
   "cell_type": "markdown",
   "metadata": {},
   "source": [
    "Załadowanie danych treningowych."
   ]
  },
  {
   "cell_type": "code",
   "execution_count": 33,
   "metadata": {},
   "outputs": [
    {
     "name": "stdout",
     "output_type": "stream",
     "text": [
      "Starting iteration 0\n",
      "{'ner': 5642.2146731910925}\n",
      "Starting iteration 1\n",
      "{'ner': 1533.369599014779}\n",
      "Starting iteration 2\n",
      "{'ner': 967.2621679443416}\n",
      "Starting iteration 3\n",
      "{'ner': 687.3161548537772}\n",
      "Starting iteration 4\n",
      "{'ner': 482.79542363846303}\n",
      "Starting iteration 5\n",
      "{'ner': 381.9042808238548}\n",
      "Starting iteration 6\n",
      "{'ner': 318.4234511056336}\n",
      "Starting iteration 7\n",
      "{'ner': 204.94598146332615}\n",
      "Starting iteration 8\n",
      "{'ner': 188.34409264638705}\n",
      "Starting iteration 9\n",
      "{'ner': 181.33440931631054}\n",
      "Starting iteration 10\n",
      "{'ner': 139.65806893477549}\n",
      "Starting iteration 11\n",
      "{'ner': 107.03276112182088}\n",
      "Starting iteration 12\n",
      "{'ner': 112.82203863986473}\n",
      "Starting iteration 13\n",
      "{'ner': 116.49646073214248}\n",
      "Starting iteration 14\n",
      "{'ner': 132.48624569827817}\n",
      "Starting iteration 15\n",
      "{'ner': 62.851887634806346}\n",
      "Starting iteration 16\n",
      "{'ner': 68.39062002313612}\n",
      "Starting iteration 17\n",
      "{'ner': 83.22005679233891}\n",
      "Starting iteration 18\n",
      "{'ner': 63.524630163457765}\n",
      "Starting iteration 19\n",
      "{'ner': 98.94152670686191}\n",
      "Starting iteration 20\n",
      "{'ner': 69.65618706520834}\n",
      "Starting iteration 21\n",
      "{'ner': 74.07898031441464}\n",
      "Starting iteration 22\n",
      "{'ner': 42.83372897195364}\n",
      "Starting iteration 23\n",
      "{'ner': 88.092198819907}\n",
      "Starting iteration 24\n",
      "{'ner': 58.845107282575206}\n",
      "Starting iteration 25\n",
      "{'ner': 51.84096819783212}\n",
      "Starting iteration 26\n",
      "{'ner': 41.28182983040842}\n",
      "Starting iteration 27\n",
      "{'ner': 38.91395472762819}\n",
      "Starting iteration 28\n",
      "{'ner': 57.76303141597185}\n",
      "Starting iteration 29\n",
      "{'ner': 45.70603275781926}\n"
     ]
    }
   ],
   "source": [
    "TRAIN_DATA = load_json_data(\"train.json\")\n",
    "nlp = train_spacy(TRAIN_DATA, 30)\n",
    "nlp.to_disk(model)"
   ]
  }
 ],
 "metadata": {
  "kernelspec": {
   "display_name": ".env",
   "language": "python",
   "name": "python3"
  },
  "language_info": {
   "codemirror_mode": {
    "name": "ipython",
    "version": 3
   },
   "file_extension": ".py",
   "mimetype": "text/x-python",
   "name": "python",
   "nbconvert_exporter": "python",
   "pygments_lexer": "ipython3",
   "version": "3.11.3"
  },
  "orig_nbformat": 4
 },
 "nbformat": 4,
 "nbformat_minor": 2
}

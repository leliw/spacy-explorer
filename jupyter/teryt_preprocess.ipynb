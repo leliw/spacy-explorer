{
 "cells": [
  {
   "cell_type": "markdown",
   "metadata": {},
   "source": [
    "\n",
    "# Przeprocesowanie plików źródłowych bazy teryt. Konwersja z CSV do JSON"
   ]
  },
  {
   "cell_type": "code",
   "execution_count": 1,
   "metadata": {},
   "outputs": [],
   "source": [
    "import os\n",
    "\n",
    "src_dir = os.path.join(\"..\", \"data\", \"raw\", \"teryt\")\n",
    "out_dir = os.path.join(\"..\", \"data\")\n",
    "src_terc = os.path.join(src_dir, \"TERC_Urzedowy_2023-08-09.csv\")\n",
    "src_ulic = os.path.join(src_dir, \"ULIC_Urzedowy_2023-08-09.csv\")\n",
    "out_voivodeships = os.path.join(out_dir, \"voivodeships.json\")\n",
    "out_counties = os.path.join(out_dir, \"counties.json\")\n",
    "out_boroughs = os.path.join(out_dir, \"boroughs.json\")\n",
    "out_streets = os.path.join(out_dir, \"streets.json\")"
   ]
  },
  {
   "cell_type": "code",
   "execution_count": 2,
   "metadata": {},
   "outputs": [],
   "source": [
    "import csv\n",
    "import json"
   ]
  },
  {
   "cell_type": "code",
   "execution_count": 3,
   "metadata": {},
   "outputs": [],
   "source": [
    "with open(src_terc, encoding=\"UTF-8\") as csvfile:\n",
    "    terc = csv.reader(csvfile, delimiter=';')\n",
    "    voivodeships = {}\n",
    "    counties = {}\n",
    "    boroughs = {}\n",
    "    for row in terc:\n",
    "        if (len(row) > 2 and row[1] == \"\"):\n",
    "            voivodeships[row[0]] = row[4]\n",
    "        elif (len(row) > 3 and row[2] == \"\"):\n",
    "            counties[row[0]+\"-\"+row[1]] = row[4]\n",
    "        elif (len(row) > 3 and row[3].isnumeric()):\n",
    "            boroughs[row[0]+\"-\"+row[1]+\"-\"+row[2]+\"-\"+row[3]] = row[4]\n",
    "\n",
    "with open(out_voivodeships, 'tw', encoding=\"UTF-8\") as outfile:\n",
    "    json.dump(voivodeships, outfile, indent=4, ensure_ascii=False)\n",
    "with open(out_counties, 'tw', encoding=\"UTF-8\") as outfile:\n",
    "    json.dump(counties, outfile, indent=4, ensure_ascii=False)\n",
    "with open(out_boroughs, 'tw', encoding=\"UTF-8\") as outfile:\n",
    "    json.dump(boroughs, outfile, indent=4, ensure_ascii=False)"
   ]
  },
  {
   "cell_type": "code",
   "execution_count": 5,
   "metadata": {},
   "outputs": [
    {
     "data": {
      "text/plain": [
       "{'al.',\n",
       " 'bulw.',\n",
       " 'droga',\n",
       " 'ogród',\n",
       " 'os.',\n",
       " 'park',\n",
       " 'pl.',\n",
       " 'rondo',\n",
       " 'rynek',\n",
       " 'skwer',\n",
       " 'szosa',\n",
       " 'ul.',\n",
       " 'wyb.',\n",
       " 'wyspa'}"
      ]
     },
     "execution_count": 5,
     "metadata": {},
     "output_type": "execute_result"
    }
   ],
   "source": [
    "with open(src_ulic, encoding=\"UTF-8\") as csvfile:\n",
    "    ulic = csv.reader(csvfile, delimiter=';')\n",
    "    prefixes = set()\n",
    "    streets = []\n",
    "    for row in ulic:\n",
    "        if len(row) > 1 and row[0].isnumeric():\n",
    "            street = {\"teryt\": row[0]+\"-\"+row[1]+\"-\"+row[2]+\"-\"+row[3]}\n",
    "            if row[6] != \"inne\":\n",
    "                street[\"prefix\"] = row[6]\n",
    "                prefixes.add(row[6])\n",
    "            if row[8] != \"\":\n",
    "                street[\"name_ext\"] = row[8]\n",
    "            street[\"name\"] = row[7]\n",
    "            streets.append(street)\n",
    "with open(out_streets, 'tw', encoding=\"UTF-8\") as outfile:\n",
    "    json.dump(streets, outfile, indent=4, ensure_ascii=False)\n",
    "prefixes"
   ]
  }
 ],
 "metadata": {
  "kernelspec": {
   "display_name": ".env",
   "language": "python",
   "name": "python3"
  },
  "language_info": {
   "codemirror_mode": {
    "name": "ipython",
    "version": 3
   },
   "file_extension": ".py",
   "mimetype": "text/x-python",
   "name": "python",
   "nbconvert_exporter": "python",
   "pygments_lexer": "ipython3",
   "version": "3.11.3"
  },
  "orig_nbformat": 4
 },
 "nbformat": 4,
 "nbformat_minor": 2
}

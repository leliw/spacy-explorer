{
 "cells": [
  {
   "cell_type": "markdown",
   "metadata": {},
   "source": [
    "# Tworzy model zawierający nazwy ulic w całej Polsce\n",
    "\n",
    "Utworzony model wyszukuje tylko podane wzorce - nie bazuje jeszcze na sztucznej inteligencji."
   ]
  },
  {
   "cell_type": "code",
   "execution_count": 43,
   "metadata": {},
   "outputs": [],
   "source": [
    "from spacy.lang.pl import Polish\n",
    "import json"
   ]
  },
  {
   "cell_type": "code",
   "execution_count": 44,
   "metadata": {},
   "outputs": [],
   "source": [
    "import os\n",
    "src_dir = os.path.join(\"..\", \"data\")\n",
    "out_dir = os.path.join(\"..\", \"model\")\n",
    "src_streets = os.path.join(src_dir, \"streets.json\")\n",
    "out_streets = os.path.join(out_dir, \"pl_streets_ner\")"
   ]
  },
  {
   "cell_type": "code",
   "execution_count": 45,
   "metadata": {},
   "outputs": [],
   "source": [
    "def load_json_data(file: str):\n",
    "    with open(file, 'tr', encoding=\"UTF-8\") as json_file:\n",
    "        data = json.load(json_file)\n",
    "    return data\n",
    "\n",
    "def save_json_data(file: str, json_data):\n",
    "    with open(file, 'tw', encoding=\"UTF-8\") as outfile:\n",
    "        json.dump(json_data, outfile, indent=4, ensure_ascii=False)"
   ]
  },
  {
   "cell_type": "code",
   "execution_count": 46,
   "metadata": {},
   "outputs": [],
   "source": [
    "def generate_streets(file: str) -> set:\n",
    "    streets = load_json_data(file)\n",
    "    ret = set()\n",
    "    for s in streets:\n",
    "        name = s.get(\"name\")\n",
    "        if (len(name) > 3 ):\n",
    "            ret.add(name)\n",
    "        if s.get(\"prefix\") != None:\n",
    "            ret.add(s.get(\"prefix\") + \" \" + s.get(\"name\"))\n",
    "        if s.get(\"name_ext\") != None:\n",
    "            ret.add(s.get(\"name_ext\") + \" \" + s.get(\"name\"))\n",
    "        if s.get(\"prefix\") != None and s.get(\"name_ext\") != None:\n",
    "            ret.add(s.get(\"prefix\") + \" \" + s.get(\"name_ext\") + \" \" + s.get(\"name\"))\n",
    "    return ret"
   ]
  },
  {
   "cell_type": "markdown",
   "metadata": {},
   "source": [
    "Tworzy listę wzorców w odpowiednim formacie."
   ]
  },
  {
   "cell_type": "code",
   "execution_count": 47,
   "metadata": {},
   "outputs": [],
   "source": [
    "def generate_patterns(data: list, type: str) -> list:\n",
    "    patterns = []\n",
    "    for item in data:\n",
    "        pattern = {\"label\": type, \"pattern\": item}\n",
    "        patterns.append(pattern)\n",
    "    return patterns"
   ]
  },
  {
   "cell_type": "markdown",
   "metadata": {},
   "source": [
    "Tworzy model na podstawie listy wzorców i zapisuje na dysku."
   ]
  },
  {
   "cell_type": "code",
   "execution_count": 48,
   "metadata": {},
   "outputs": [],
   "source": [
    "def generate_rules(patterns, model_dir: str):\n",
    "    nlp = Polish()\n",
    "    ruler = nlp.add_pipe(\"entity_ruler\")\n",
    "    ruler.add_patterns(patterns)\n",
    "    nlp.to_disk(model_dir)\n",
    "\n",
    "\n",
    "streets = generate_streets(src_streets)\n",
    "# save_json_data(\"str.json\", list(streets))\n",
    "patterns = generate_patterns(streets, \"STREET\")\n",
    "generate_rules(patterns, out_streets)"
   ]
  },
  {
   "cell_type": "markdown",
   "metadata": {},
   "source": [
    "## Testowanie wygenerowanego modelu"
   ]
  },
  {
   "cell_type": "code",
   "execution_count": 49,
   "metadata": {},
   "outputs": [],
   "source": [
    "import spacy\n",
    "\n",
    "nlp = spacy.load(out_streets)"
   ]
  },
  {
   "cell_type": "code",
   "execution_count": 52,
   "metadata": {},
   "outputs": [
    {
     "name": "stdout",
     "output_type": "stream",
     "text": [
      "573\n",
      "{'Edwarda', 'Jezioro', 'Park', 'Fortuna', 'Nowości', 'Hali', 'Ireny', 'Jana Pawła II', 'Michała', 'Bielska', 'Dworzec', 'Potok', 'Tomasza', 'ul. Korzeniowskiego', 'Kaczyńskiego', 'Wielkopolska', 'Rola', 'ul. Króla Jana Kazimierza', 'św. Dominika', 'Pomorskich', 'Wołek', 'Ścieżka', 'Przybysz', 'Powstania Styczniowego', 'Gdynia', 'Sławomira', 'Kacpra', 'J. Słowackiego', 'Rutki', 'Samodzielna', 'Przebieg', 'Marcin', 'św. Jana', 'ul. Wendy', 'Staniszewskiego', 'Medyczna', 'Litwa', 'Nowa', 'Socjalna', 'Bożeny', 'ul. Jałowcowa', 'Grodzisko', 'Główna', 'Pluty', 'Prus', 'Faustyny', 'Armii Krajowej', 'Nasza', 'Eryka', 'Bergera', 'Andrzeja', 'Łączna', 'Inna', 'Tadeusza Wendy', 'Teatralny', 'Letnie', 'Żurawie', 'Seweryna', 'ul. Na Zaspę', 'Lecha Bądkowskiego', 'św. Mikołaja', 'Agaty', 'ul. Jana z Kolna', 'Unii Europejskiej', 'Przerwa', 'Morska', 'sierpnia', 'Moja', 'Iwan', 'Stanisława Fijałkowskiego', 'Młoda', 'Żwirki', 'Najświętszej Maryi Panny', 'Wigury', 'Łokietka', 'Konstelacji', 'Sportowa', 'ul. Na Stoku', 'Młodzieżowa', 'Garbary', 'Rosnąca', 'ul. Legionów', 'Zakopane', 'Gminna', 'Korony', 'Klementyny', 'Victorii', 'Zbigniewa Podleckiego', 'Walewska', 'Innowacji', 'ul. Droga Gdyńska', 'Wincentego', 'al. Zwycięstwa', 'Siennicka', 'Juniorów', 'Cała', 'Pawlak', 'Dworzec Główny', 'Dominiki', 'Sztuki', 'Thomasa', 'Wojenna', 'Ogarna', 'Pietrzaka', 'Polska', 'Żużlowa', 'Jacka', 'Marynarki Wojennej', 'ul. Wójta Radtkego', 'Reja', 'Szymona', 'Polskich', 'Skowrona', 'Południowe', 'ul. Portowa', 'Kijowskiego', 'Witkacego', 'Adama', 'Literatów', 'Staniewska', 'Abrahama', 'Polonia', 'Sosnowiec', 'Rzemieślnicza', 'ul. 3 Maja', 'Międzynarodowa', 'Reagana', 'Tuszyńska', 'Polki', 'ul. Marynarki Polskiej', 'Wojewódzkiego', 'Dobra', 'Zimowa', 'Biedronki', 'Kamila', 'ul. Tadeusza Wendy', 'Mali', 'Korty', 'Kamienne', 'Jóźwiaka', 'Górny', 'Częstochowska', 'Wielka', 'ul. Żołnierzy I Armii Wojska Polskiego', \"de Gaulle'a\", 'Waszyngtona', 'Gryfa', 'Kotwiczników', 'Lechii Gdańsk', 'Wojska Polskiego', 'Derby', 'Wróblewskiego', 'Młodej Polski', 'Żabianka', 'Golińska', 'ul. Morska', 'Wybrzeże', 'Edukacji', 'Pierwsza', 'Sali', 'ul. Stryjska', 'ul. Czeczewska', 'ul. Grottgera', 'Westerplatte', 'ul. Reja', 'Mojżesza', 'Świętojańska', 'Godowska', 'ul. Pomorska', 'Pamięci Narodowej', 'Roberta', 'Trzecia', 'Moniki', 'Szwedzki', 'Spadek', 'ul. Wyspiańskiego', 'Czapla', 'Bałtycka', 'ul. Heweliusza', 'Dąbrowa', 'Roku', 'Pomorskiego', 'Jolanty', 'Staw', 'Mozarta', 'Konstytucji 3 Maja', 'ul. Siennicka', 'Macieja', 'Niemena', 'al. Piłsudskiego', 'Magiczna', 'Rekowska', 'Stanów Zjednoczonych', 'Sasina', 'Podgórna', 'Elektryków', 'ul. Gryfa Pomorskiego', 'Solidarności', 'Hucisko', 'Miecznikowskiego', 'Wróbla', 'Wojciecha', 'Tytusa', 'Miejski', 'Świt', 'Gdańska', 'Dalekiego', 'ul. Chwaszczyńska', 'ul. Paderewskiego', 'Łazienki', 'Orłowa', 'Zdzisława Beksińskiego', 'Wójcik', 'Wiktora Wołkowa', 'ul. Jaskółcza', 'Warszawy', 'Wiktora', 'Bogusławskiego', 'Niemojewska', 'Kołodzieja', 'Stacja', 'Kossaków', 'Górnicza', 'Świętokrzyska', 'Polski', 'Bliska', 'Herman', 'Osada', 'Dulina', 'Karolina', 'Wilków', 'listopada', 'Jaguara', 'Anna', 'Bartosza', 'Aleksandra', 'Kibiców', 'Leszno', 'Zieleni', 'Aliny', 'Gdański', 'Ołowianka', 'Gospodarcza', 'Borkowska', 'Harcerzy', 'ul. Stanisława Filipkowskiego', 'ul. Wiczlińska', 'Beksińskiego', 'Matecznik', 'Rakowa', 'Konstytucji', 'ul. Bolesława Prusa', 'Szansa', 'Dąbrowy', 'Jana', 'Warszawskiego', 'Spożywcza', 'Wojewódzka', 'Wiosny', 'ul. Haffnera', 'Rowerowa', 'Bugaj', 'Jakuba Wojciechowskiego', 'Mennica', 'Czesława Niemena', 'ul. Gdańska', 'Stare Miasto', 'Leszka', 'Drogi Mlecznej', 'Słoneczne Wzgórza', 'św. Wojciecha', 'Rudzka', 'Grand', 'Magdaleny', 'ul. Górskiego', 'Leśniczówka', 'ul. Janka Wiśniewskiego', 'Barona', 'Laura', 'Wiesława', 'Janowska', 'Ostrów', 'Stocznia', 'Leona', 'Ateny', 'Pomorska', 'Ballady', 'Lange', 'Sztuk Pięknych', 'Prezydenta', 'Piotra', 'ul. Polska', 'Apollina', 'Bogusława', 'Muzyka', 'Traugutta', 'al. Niepodległości', 'Sportowy', 'Rekreacyjna', 'ul. Chrzanowskiego', 'Szwajcaria', 'Długi Targ', 'Dziecka', 'Marcina', 'Rondo Karlskrona', 'Młota', 'Odrodzenia Polski', 'Jarosława', 'Obwodnica', 'Kaszubska', 'Zagłębie', '11 listopada', 'Magdaleny Abakanowicz', 'Powroźnicza', 'Pracy', 'Podwale Przedmiejskie', 'Przemysława', 'Dolny', 'Ujeścisko', 'Gordona', 'Dudy', 'ul. Budowlanych', 'Szekspira', 'Jerzego', 'Wojciech', 'Agnieszki Osieckiej', 'im. Juliusza Słowackiego', 'Nowy Staw', 'ul. Wejherowska', 'Ziętka', 'Zygmunta Hübnera', 'Agnieszki', 'ul. Piłsudskiego', 'ul. Stoczniowców', 'stycznia 1999', 'Kupały', 'Koniec', 'Rozwoju', 'Szymańskiego', 'Chojnice', 'Szlagi', 'Piotrowska', 'Cudowna', 'ul. Aleja Zwycięstwa', 'Łacina', 'Bartka', 'Stoczni Gdańskiej', 'Marszałka', 'Lewandowskiej', 'Świętopełka', 'Nowe', 'Gdańskie', 'Grotkowska', 'Antonia Vivaldiego', 'ul. Gdyńska', 'Modna', 'Williama Szekspira', 'Wilki', 'Muzyczna', 'Bloki', 'ul. Okrzei', 'Ciska', 'Policjantów', 'Góry', 'Jabłoni', 'Jankowska', 'Konieczna', 'Miotk', 'Osiedle', 'Altany', 'Marka', 'Kawa', 'Kaczmarek', 'Zdrojowy', 'Karola', 'Tesli', 'Moździerzy', 'Znicz', 'ul. Szemudzka', 'Mennonitów', 'Zalewskiego', 'Regionalna', 'Nowickiego', 'ul. Kilińskiego', 'Bąka', 'Urbaniak', 'Kleszcz', 'Plac Kaszubski', 'Zbytki', 'Kraska', 'Roszkowskiego', 'Zaruskiego', 'Wakacyjna', 'Ostatnia', 'Wspólnoty', 'Jordana', 'Brazylia', 'ul. Lastadia', 'Pruszcza', 'Najświętszej Marii Panny', 'Piła', 'ul. Partyzantów Koleczkowskich', 'Dojazd', 'Pegaza', 'Władysława', 'ul. Kielnieńska', 'Tango', 'Czujna', 'Wybrzeża', 'ul. Traugutta', 'Wielkopolski', 'Europejskie', 'Polskiego', 'Taras', 'Rzeczypospolitej', 'Lecha Kaczyńskiego', 'Kwiatkowskiego', 'Żukowa', 'Kostka', 'św. Katarzyny', 'Lech', 'Junior', 'ul. Obrońców Westerplatte', 'św. Maksymiliana', 'Heweliusza', 'Orła', 'Grzegorza', 'Potrzebna', 'Pejzaż', 'Jana III Sobieskiego', 'Łukasza', 'Adamczyk', 'Brzeźna', 'Praga', 'Biernackiego', 'Daniela', 'Śródmieście', 'Średnia', 'Podwale Grodzkie', 'Minogi', 'Kanada', 'Porozumień Sierpniowych', 'Krajowa', 'Kultury', 'Anioły', 'Royal', 'Kruk', 'Czołowa', 'Stadion', 'Piotrowicz', 'Piękna', 'Biegańskiego', 'Lisa', 'Kabaretowa', 'Nieznanego Żołnierza', 'Muzyki', 'Wybudowanie', 'Neptuna', 'Drozdowska', 'Słodka', 'Wieczysta', 'ul. Małokacka', 'Jakuba', 'Straganiarska', 'Saganowskiego', 'Otella', 'Tomaszewskiego', 'Polanki', 'ul. Władysława IV', 'Kołakowskiego', 'ul. Świętojańska', 'Zdrowie', 'Kościuszki', 'Zielona', 'ul. Marszewska', 'Doliny', 'Długa', 'F. Chopina', 'Bramka', 'Stanisława', 'Dzielnica', 'św. Piotra', 'Wzgórze', 'Sobota', 'Zdrowia', 'Górnika', 'Dziesiąta', 'ul. Chwarznieńska', 'Mikołaja', 'ul. Zawodników', 'Żmijewska', 'Zielone', 'Port', 'Heinricha', 'Krzysztofa', 'Ronalda Reagana', 'Miejska', 'ul. Bernarda Chrzanowskiego', 'Skwer', 'Osiedla', 'Kleczewska', 'ul. Kartuska', 'Przyjazna', 'Gdańsk', 'Źródło', 'Lecha', 'Jarek', 'Małe', 'Śląska', 'ul. Zaruskiego', 'Herby', 'ul. Świętego Piotra', 'ul. Oliwska', 'Śnieżka', '3 Maja', 'Przejście', 'Tradycji', 'Warta', 'Wolnego', 'Pogórze', 'Czwartek', 'Radosława', 'Przymorze', 'Smocza', 'Łukaszewskiego', 'Huberta', 'Wody', 'Ponadczasowa', 'Słupska', 'Północna', 'Milewska', 'ul. Kołodzieja', 'Bądkowskiego', 'Piłsudskiego', 'Centralna', 'ul. Podwale Grodzkie', 'Holoubka', 'Czyża', 'Polski Sierpień', 'Węgry', 'Maksyma', 'Babie Lato', 'Remontowa', 'Polaków', 'Karvina', 'Wiedzy', 'Górna', 'Koło', 'Południe', 'Popiełuszki', 'Niska', 'Amona', 'Płocka', 'ul. Strażacka', 'Joachima', 'ul. 10', 'Eugeniusza Kwiatkowskiego', 'ul. Brzegi', 'Zielona Góra', 'Boskiej', 'ul. Chylońska', 'Osiecka', 'Centrum', 'Wolności', 'Fałata', 'Dominika', 'Markowska', 'Antypodów', 'Zawiszy', 'Dawna', 'Polaka', 'Zaczarowana', 'św. Trójcy'}\n"
     ]
    }
   ],
   "source": [
    "articles = load_json_data(\"../data/trojmiasto.json\")\n",
    "ents = set()\n",
    "for a in articles:\n",
    "    body = a.get(\"body\")\n",
    "    doc = nlp(body)\n",
    "    for ent in doc.ents:\n",
    "        ents.add(ent.text)\n",
    "print(len(ents))\n",
    "print(ents)"
   ]
  }
 ],
 "metadata": {
  "kernelspec": {
   "display_name": ".env",
   "language": "python",
   "name": "python3"
  },
  "language_info": {
   "codemirror_mode": {
    "name": "ipython",
    "version": 3
   },
   "file_extension": ".py",
   "mimetype": "text/x-python",
   "name": "python",
   "nbconvert_exporter": "python",
   "pygments_lexer": "ipython3",
   "version": "3.11.3"
  },
  "orig_nbformat": 4
 },
 "nbformat": 4,
 "nbformat_minor": 2
}

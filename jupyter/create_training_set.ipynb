{
 "cells": [
  {
   "cell_type": "markdown",
   "metadata": {},
   "source": [
    "# Tworzy zbiór danych uczących (na podstawie modelu)"
   ]
  },
  {
   "cell_type": "code",
   "execution_count": 1,
   "metadata": {},
   "outputs": [],
   "source": [
    "import spacy\n",
    "import json\n",
    "import random\n"
   ]
  },
  {
   "cell_type": "code",
   "execution_count": 3,
   "metadata": {},
   "outputs": [],
   "source": [
    "import os\n",
    "model_dir = os.path.join(\"..\", \"model\")\n",
    "model = os.path.join(model_dir, \"pl_streets_ner\")\n",
    "\n",
    "src_dir = os.path.join(\"..\", \"data\")\n",
    "src_streets = os.path.join(src_dir, \"streets.json\")"
   ]
  },
  {
   "cell_type": "code",
   "execution_count": 2,
   "metadata": {},
   "outputs": [],
   "source": [
    "def load_json_data(file: str):\n",
    "    with open(file, 'tr', encoding=\"UTF-8\") as json_file:\n",
    "        data = json.load(json_file)\n",
    "    return data\n",
    "\n",
    "def save_json_data(file: str, json_data):\n",
    "    with open(file, 'tw', encoding=\"UTF-8\") as outfile:\n",
    "        json.dump(json_data, outfile, indent=4, ensure_ascii=False)"
   ]
  },
  {
   "cell_type": "code",
   "execution_count": 7,
   "metadata": {},
   "outputs": [],
   "source": [
    "nlp = spacy.load(model)\n",
    "articles = load_json_data(\"../data/trojmiasto.json\")\n",
    "ret = []\n",
    "for a in articles:\n",
    "    body = a.get(\"body\")\n",
    "    doc = nlp(body)\n",
    "    ents = []\n",
    "    for ent in doc.ents:\n",
    "        ents.append((ent.start_char, ent.end_char, ent.label_))\n",
    "    if len(ents) > 0:\n",
    "        ret.append([body, {\"entities\": ents}])\n",
    "save_json_data(\"train.json\", ret)"
   ]
  }
 ],
 "metadata": {
  "kernelspec": {
   "display_name": ".env",
   "language": "python",
   "name": "python3"
  },
  "language_info": {
   "codemirror_mode": {
    "name": "ipython",
    "version": 3
   },
   "file_extension": ".py",
   "mimetype": "text/x-python",
   "name": "python",
   "nbconvert_exporter": "python",
   "pygments_lexer": "ipython3",
   "version": "3.11.3"
  },
  "orig_nbformat": 4
 },
 "nbformat": 4,
 "nbformat_minor": 2
}
